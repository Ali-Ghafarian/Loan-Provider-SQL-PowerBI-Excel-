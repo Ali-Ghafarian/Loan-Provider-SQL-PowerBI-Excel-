{
    "metadata": {
        "kernelspec": {
            "name": "SQL",
            "display_name": "SQL",
            "language": "sql"
        },
        "language_info": {
            "name": "sql",
            "version": ""
        }
    },
    "nbformat_minor": 2,
    "nbformat": 4,
    "cells": [
        {
            "cell_type": "markdown",
            "source": [
                "# Bank Loan Report"
            ],
            "metadata": {
                "azdata_cell_guid": "f24b9832-4286-4257-842c-9c2486ab30ca"
            },
            "attachments": {}
        },
        {
            "cell_type": "code",
            "source": [
                "-- MSSQL could not support date format for time-based columns. So I had to import them as varchar and then convert them to date.\n",
                "-- I made a stored procedure to convert them to date format in soreted_procedures.sql file so that I can use them in the queries.\n",
                "-- Converr multiple varchar columns to date columns\n",
                "\n",
                "--EXEC sp_ConvertMultipleVarcharToDateValidated 'bank_loan_df', 'last_payment_date,next_payment_date,issue_date,last_credit_pull_date', 105,0,0;\n",
                ""
            ],
            "metadata": {
                "azdata_cell_guid": "79470c3f-4daf-4571-986f-04211b0a154d",
                "language": "sql"
            },
            "outputs": [],
            "execution_count": null
        },
        {
            "cell_type": "code",
            "source": [
                "-- Let's check the types of columns to make sure they are correct\n",
                "\n",
                "SELECT COLUMN_NAME, DATA_TYPE\n",
                "FROM INFORMATION_SCHEMA.COLUMNS\n",
                "WHERE TABLE_NAME = 'bank_loan_df';\n",
                ""
            ],
            "metadata": {
                "language": "sql",
                "azdata_cell_guid": "73a8d31e-ac7c-4d92-8a64-5b891a0f7784",
                "tags": []
            },
            "outputs": [],
            "execution_count": null
        },
        {
            "cell_type": "markdown",
            "source": [
                "### Note: The dataset just contains 2021 data. So I assume:\n",
                "\n",
                "- Current Date: 31-12-2021"
            ],
            "metadata": {
                "language": "sql",
                "azdata_cell_guid": "78c82531-53d5-460d-8671-c1c73054b992"
            },
            "attachments": {}
        },
        {
            "cell_type": "markdown",
            "source": [
                "## **A. Summary**\n",
                "\n",
                "### **Let's get the KPI's**"
            ],
            "metadata": {
                "azdata_cell_guid": "f71142d5-75ca-468e-9234-0e7be5d990d4"
            },
            "attachments": {}
        },
        {
            "cell_type": "code",
            "source": [
                "-- Total loan Applications\n",
                "SELECT COUNT(id) AS Total_Applications FROM bank_loan_df;"
            ],
            "metadata": {
                "azdata_cell_guid": "35eedba0-5380-43f7-8154-570388666bad",
                "language": "sql",
                "tags": []
            },
            "outputs": [
                {
                    "output_type": "display_data",
                    "data": {
                        "text/html": "(1 row affected)"
                    },
                    "metadata": {}
                },
                {
                    "output_type": "display_data",
                    "data": {
                        "text/html": "Total execution time: 00:00:00.043"
                    },
                    "metadata": {}
                },
                {
                    "output_type": "execute_result",
                    "execution_count": 9,
                    "data": {
                        "application/vnd.dataresource+json": {
                            "schema": {
                                "fields": [
                                    {
                                        "name": "Total_Applications"
                                    }
                                ]
                            },
                            "data": [
                                {
                                    "Total_Applications": "38576"
                                }
                            ]
                        },
                        "text/html": "<table><tr><th>Total_Applications</th></tr><tr><td>38576</td></tr></table>"
                    },
                    "metadata": {}
                }
            ],
            "execution_count": 9
        },
        {
            "cell_type": "code",
            "source": [
                "-- MTD (Month-To-Date) Loan Applications\n",
                "SELECT COUNT(id) AS Total_Applications FROM bank_loan_df\n",
                "WHERE MONTH(issue_date) = 12 -- AND YEAR(issue_date) = 2021\n",
                ";"
            ],
            "metadata": {
                "azdata_cell_guid": "75b1ce00-8ad5-4c0d-81a3-f9b7a1577b39",
                "language": "sql",
                "tags": []
            },
            "outputs": [
                {
                    "output_type": "display_data",
                    "data": {
                        "text/html": "(1 row affected)"
                    },
                    "metadata": {}
                },
                {
                    "output_type": "display_data",
                    "data": {
                        "text/html": "Total execution time: 00:00:00.018"
                    },
                    "metadata": {}
                },
                {
                    "output_type": "execute_result",
                    "execution_count": 10,
                    "data": {
                        "application/vnd.dataresource+json": {
                            "schema": {
                                "fields": [
                                    {
                                        "name": "Total_Applications"
                                    }
                                ]
                            },
                            "data": [
                                {
                                    "Total_Applications": "4314"
                                }
                            ]
                        },
                        "text/html": "<table><tr><th>Total_Applications</th></tr><tr><td>4314</td></tr></table>"
                    },
                    "metadata": {}
                }
            ],
            "execution_count": 10
        },
        {
            "cell_type": "code",
            "source": [
                "-- PMTD (Previous Month-To-Date) Loan Applications\n",
                "SELECT COUNT(id) AS Total_Applications FROM bank_loan_df\n",
                "WHERE MONTH(issue_date) = 11"
            ],
            "metadata": {
                "azdata_cell_guid": "cff87b82-17db-404e-894b-e6f4d80d0af1",
                "language": "sql",
                "tags": []
            },
            "outputs": [
                {
                    "output_type": "display_data",
                    "data": {
                        "text/html": "(1 row affected)"
                    },
                    "metadata": {}
                },
                {
                    "output_type": "display_data",
                    "data": {
                        "text/html": "Total execution time: 00:00:00.049"
                    },
                    "metadata": {}
                },
                {
                    "output_type": "execute_result",
                    "execution_count": 18,
                    "data": {
                        "application/vnd.dataresource+json": {
                            "schema": {
                                "fields": [
                                    {
                                        "name": "Total_Applications"
                                    }
                                ]
                            },
                            "data": [
                                {
                                    "Total_Applications": "4035"
                                }
                            ]
                        },
                        "text/html": "<table><tr><th>Total_Applications</th></tr><tr><td>4035</td></tr></table>"
                    },
                    "metadata": {}
                }
            ],
            "execution_count": 18
        },
        {
            "cell_type": "code",
            "source": [
                "-- Total Amoun Received\n",
                "SELECT SUM(total_payment) AS Total_Amount_Collected FROM bank_loan_df"
            ],
            "metadata": {
                "azdata_cell_guid": "5674641a-f609-40f1-8265-f26da5736937",
                "language": "sql",
                "tags": []
            },
            "outputs": [
                {
                    "output_type": "display_data",
                    "data": {
                        "text/html": "(1 row affected)"
                    },
                    "metadata": {}
                },
                {
                    "output_type": "display_data",
                    "data": {
                        "text/html": "Total execution time: 00:00:00.031"
                    },
                    "metadata": {}
                },
                {
                    "output_type": "execute_result",
                    "execution_count": 20,
                    "data": {
                        "application/vnd.dataresource+json": {
                            "schema": {
                                "fields": [
                                    {
                                        "name": "Total_Amount_Collected"
                                    }
                                ]
                            },
                            "data": [
                                {
                                    "Total_Amount_Collected": "473070933"
                                }
                            ]
                        },
                        "text/html": "<table><tr><th>Total_Amount_Collected</th></tr><tr><td>473070933</td></tr></table>"
                    },
                    "metadata": {}
                }
            ],
            "execution_count": 20
        },
        {
            "cell_type": "code",
            "source": [
                "-- MTD Total Amount Received\n",
                "SELECT SUM(total_payment) AS Total_Amount_Collected FROM bank_loan_df\n",
                "WHERE MONTH(issue_date) = 12"
            ],
            "metadata": {
                "azdata_cell_guid": "2c285c80-1155-4524-a388-42154e800f61",
                "language": "sql",
                "tags": []
            },
            "outputs": [
                {
                    "output_type": "display_data",
                    "data": {
                        "text/html": "(1 row affected)"
                    },
                    "metadata": {}
                },
                {
                    "output_type": "display_data",
                    "data": {
                        "text/html": "Total execution time: 00:00:00.059"
                    },
                    "metadata": {}
                },
                {
                    "output_type": "execute_result",
                    "execution_count": 23,
                    "data": {
                        "application/vnd.dataresource+json": {
                            "schema": {
                                "fields": [
                                    {
                                        "name": "Total_Amount_Collected"
                                    }
                                ]
                            },
                            "data": [
                                {
                                    "Total_Amount_Collected": "58074380"
                                }
                            ]
                        },
                        "text/html": "<table><tr><th>Total_Amount_Collected</th></tr><tr><td>58074380</td></tr></table>"
                    },
                    "metadata": {}
                }
            ],
            "execution_count": 23
        },
        {
            "cell_type": "code",
            "source": [
                "-- PMTD Total Amount Received\n",
                "SELECT SUM(total_payment) AS Total_Amount_Collected FROM bank_loan_df\n",
                "WHERE MONTH(issue_date) = 11"
            ],
            "metadata": {
                "azdata_cell_guid": "35bafe2d-9509-4ba6-b835-dd49540013ea",
                "language": "sql",
                "tags": []
            },
            "outputs": [
                {
                    "output_type": "display_data",
                    "data": {
                        "text/html": "(1 row affected)"
                    },
                    "metadata": {}
                },
                {
                    "output_type": "display_data",
                    "data": {
                        "text/html": "Total execution time: 00:00:00.055"
                    },
                    "metadata": {}
                },
                {
                    "output_type": "execute_result",
                    "execution_count": 22,
                    "data": {
                        "application/vnd.dataresource+json": {
                            "schema": {
                                "fields": [
                                    {
                                        "name": "Total_Amount_Collected"
                                    }
                                ]
                            },
                            "data": [
                                {
                                    "Total_Amount_Collected": "50132030"
                                }
                            ]
                        },
                        "text/html": "<table><tr><th>Total_Amount_Collected</th></tr><tr><td>50132030</td></tr></table>"
                    },
                    "metadata": {}
                }
            ],
            "execution_count": 22
        },
        {
            "cell_type": "code",
            "source": [
                "-- Average Interest Rate\n",
                "SELECT AVG(int_rate)*100 AS Avg_Int_Rate FROM bank_loan_df;"
            ],
            "metadata": {
                "azdata_cell_guid": "38a4db3f-7bbd-42d8-9004-bbaedfcc56c5",
                "language": "sql",
                "tags": []
            },
            "outputs": [
                {
                    "output_type": "display_data",
                    "data": {
                        "text/html": "(1 row affected)"
                    },
                    "metadata": {}
                },
                {
                    "output_type": "display_data",
                    "data": {
                        "text/html": "Total execution time: 00:00:00.063"
                    },
                    "metadata": {}
                },
                {
                    "output_type": "execute_result",
                    "execution_count": 24,
                    "data": {
                        "application/vnd.dataresource+json": {
                            "schema": {
                                "fields": [
                                    {
                                        "name": "Avg_Int_Rate"
                                    }
                                ]
                            },
                            "data": [
                                {
                                    "Avg_Int_Rate": "12.048831397761875"
                                }
                            ]
                        },
                        "text/html": "<table><tr><th>Avg_Int_Rate</th></tr><tr><td>12.048831397761875</td></tr></table>"
                    },
                    "metadata": {}
                }
            ],
            "execution_count": 24
        },
        {
            "cell_type": "code",
            "source": [
                "-- MTD Average Interest Rate\n",
                "SELECT AVG(int_rate)*100 AS MTD_Avg_Int_Rate FROM bank_loan_df\n",
                "WHERE MONTH(issue_date) = 12"
            ],
            "metadata": {
                "language": "sql",
                "azdata_cell_guid": "33485c6f-d23f-4970-ab59-70048a6af986"
            },
            "outputs": [
                {
                    "output_type": "display_data",
                    "data": {
                        "text/html": "(1 row affected)"
                    },
                    "metadata": {}
                },
                {
                    "output_type": "display_data",
                    "data": {
                        "text/html": "Total execution time: 00:00:00.046"
                    },
                    "metadata": {}
                },
                {
                    "output_type": "execute_result",
                    "execution_count": 26,
                    "data": {
                        "application/vnd.dataresource+json": {
                            "schema": {
                                "fields": [
                                    {
                                        "name": "MTD_Avg_Int_Rate"
                                    }
                                ]
                            },
                            "data": [
                                {
                                    "MTD_Avg_Int_Rate": "12.35604079740363"
                                }
                            ]
                        },
                        "text/html": "<table><tr><th>MTD_Avg_Int_Rate</th></tr><tr><td>12.35604079740363</td></tr></table>"
                    },
                    "metadata": {}
                }
            ],
            "execution_count": 26
        },
        {
            "cell_type": "code",
            "source": [
                "-- PMTD Average Interest Rate\n",
                "SELECT AVG(int_rate)*100 AS PMTD_Avg_Int_Rate FROM bank_loan_df\n",
                "WHERE MONTH(issue_date) = 11"
            ],
            "metadata": {
                "language": "sql",
                "azdata_cell_guid": "3f7f22be-a70b-48d2-ba73-fb426c484a34"
            },
            "outputs": [
                {
                    "output_type": "display_data",
                    "data": {
                        "text/html": "(1 row affected)"
                    },
                    "metadata": {}
                },
                {
                    "output_type": "display_data",
                    "data": {
                        "text/html": "Total execution time: 00:00:00.046"
                    },
                    "metadata": {}
                },
                {
                    "output_type": "execute_result",
                    "execution_count": 27,
                    "data": {
                        "application/vnd.dataresource+json": {
                            "schema": {
                                "fields": [
                                    {
                                        "name": "PMTD_Avg_Int_Rate"
                                    }
                                ]
                            },
                            "data": [
                                {
                                    "PMTD_Avg_Int_Rate": "11.941717472118764"
                                }
                            ]
                        },
                        "text/html": "<table><tr><th>PMTD_Avg_Int_Rate</th></tr><tr><td>11.941717472118764</td></tr></table>"
                    },
                    "metadata": {}
                }
            ],
            "execution_count": 27
        },
        {
            "cell_type": "code",
            "source": [
                "-- Average Debt-to-Income Ratio (DTI) for all loans\n",
                "SELECT AVG(dti)*100 AS Avg_DTI FROM bank_loan_df\n",
                ""
            ],
            "metadata": {
                "language": "sql",
                "azdata_cell_guid": "17315caa-fcf6-458d-b55c-6f43d6abf12f"
            },
            "outputs": [
                {
                    "output_type": "display_data",
                    "data": {
                        "text/html": "(1 row affected)"
                    },
                    "metadata": {}
                },
                {
                    "output_type": "display_data",
                    "data": {
                        "text/html": "Total execution time: 00:00:00.041"
                    },
                    "metadata": {}
                },
                {
                    "output_type": "execute_result",
                    "execution_count": 28,
                    "data": {
                        "application/vnd.dataresource+json": {
                            "schema": {
                                "fields": [
                                    {
                                        "name": "Avg_DTI"
                                    }
                                ]
                            },
                            "data": [
                                {
                                    "Avg_DTI": "13.327433119037712"
                                }
                            ]
                        },
                        "text/html": "<table><tr><th>Avg_DTI</th></tr><tr><td>13.327433119037712</td></tr></table>"
                    },
                    "metadata": {}
                }
            ],
            "execution_count": 28
        },
        {
            "cell_type": "code",
            "source": [
                "-- MTD Avg DTI\n",
                "SELECT AVG(dti)*100 AS MTD_Avg_DTI FROM bank_loan_df\n",
                "WHERE MONTH(issue_date) = 12"
            ],
            "metadata": {
                "language": "sql",
                "azdata_cell_guid": "bdd500ab-53d5-4e55-956d-4c89f2f0bd61"
            },
            "outputs": [
                {
                    "output_type": "display_data",
                    "data": {
                        "text/html": "(1 row affected)"
                    },
                    "metadata": {}
                },
                {
                    "output_type": "display_data",
                    "data": {
                        "text/html": "Total execution time: 00:00:00.025"
                    },
                    "metadata": {}
                },
                {
                    "output_type": "execute_result",
                    "execution_count": 29,
                    "data": {
                        "application/vnd.dataresource+json": {
                            "schema": {
                                "fields": [
                                    {
                                        "name": "MTD_Avg_DTI"
                                    }
                                ]
                            },
                            "data": [
                                {
                                    "MTD_Avg_DTI": "13.665537783959245"
                                }
                            ]
                        },
                        "text/html": "<table><tr><th>MTD_Avg_DTI</th></tr><tr><td>13.665537783959245</td></tr></table>"
                    },
                    "metadata": {}
                }
            ],
            "execution_count": 29
        },
        {
            "cell_type": "code",
            "source": [
                "-- PMTD Avg DTI\n",
                "SELECT AVG(dti)*100 AS PMTD_Avg_DTI FROM bank_loan_df\n",
                "WHERE MONTH(issue_date) = 11"
            ],
            "metadata": {
                "language": "sql",
                "azdata_cell_guid": "34b01d09-5757-4cc2-974d-fec4264f0da8"
            },
            "outputs": [
                {
                    "output_type": "display_data",
                    "data": {
                        "text/html": "(1 row affected)"
                    },
                    "metadata": {}
                },
                {
                    "output_type": "display_data",
                    "data": {
                        "text/html": "Total execution time: 00:00:00.024"
                    },
                    "metadata": {}
                },
                {
                    "output_type": "execute_result",
                    "metadata": {},
                    "execution_count": 4,
                    "data": {
                        "application/vnd.dataresource+json": {
                            "schema": {
                                "fields": [
                                    {
                                        "name": "PMTD_Avg_DTI"
                                    }
                                ]
                            },
                            "data": [
                                {
                                    "PMTD_Avg_DTI": "13.30273358116481"
                                }
                            ]
                        },
                        "text/html": [
                            "<table>",
                            "<tr><th>PMTD_Avg_DTI</th></tr>",
                            "<tr><td>13.30273358116481</td></tr>",
                            "</table>"
                        ]
                    }
                }
            ],
            "execution_count": 4
        },
        {
            "cell_type": "markdown",
            "source": [
                "### **Loan Status Metrics**"
            ],
            "metadata": {
                "language": "sql",
                "azdata_cell_guid": "993160e6-220d-455c-a658-c1d1b86d44dc"
            },
            "attachments": {}
        },
        {
            "cell_type": "code",
            "source": [
                "select distinct loan_status from bank_loan_df"
            ],
            "metadata": {
                "language": "sql",
                "azdata_cell_guid": "5014a5a4-ec7d-464f-82e6-50074665dabc"
            },
            "outputs": [
                {
                    "output_type": "display_data",
                    "data": {
                        "text/html": "(3 rows affected)"
                    },
                    "metadata": {}
                },
                {
                    "output_type": "display_data",
                    "data": {
                        "text/html": "Total execution time: 00:00:00.093"
                    },
                    "metadata": {}
                },
                {
                    "output_type": "execute_result",
                    "metadata": {},
                    "execution_count": 6,
                    "data": {
                        "application/vnd.dataresource+json": {
                            "schema": {
                                "fields": [
                                    {
                                        "name": "loan_status"
                                    }
                                ]
                            },
                            "data": [
                                {
                                    "loan_status": "Fully Paid"
                                },
                                {
                                    "loan_status": "Charged Off"
                                },
                                {
                                    "loan_status": "Current"
                                }
                            ]
                        },
                        "text/html": [
                            "<table>",
                            "<tr><th>loan_status</th></tr>",
                            "<tr><td>Fully Paid</td></tr>",
                            "<tr><td>Charged Off</td></tr>",
                            "<tr><td>Current</td></tr>",
                            "</table>"
                        ]
                    }
                }
            ],
            "execution_count": 6
        },
        {
            "cell_type": "code",
            "source": [
                "SELECT\n",
                "        loan_status,\n",
                "        COUNT(id) AS LoanCount,\n",
                "        SUM(total_payment) AS Total_Amount_Received,\n",
                "        SUM(loan_amount) AS Total_Funded_Amount,\n",
                "        AVG(int_rate * 100) AS Interest_Rate,\n",
                "        AVG(dti * 100) AS DTI\n",
                "    FROM\n",
                "        bank_loan_df\n",
                "    GROUP BY\n",
                "        loan_status"
            ],
            "metadata": {
                "language": "sql",
                "azdata_cell_guid": "071412ad-2ed6-4e82-a424-b5a6c0f3cd14"
            },
            "outputs": [
                {
                    "output_type": "display_data",
                    "data": {
                        "text/html": "(3 rows affected)"
                    },
                    "metadata": {}
                },
                {
                    "output_type": "display_data",
                    "data": {
                        "text/html": "Total execution time: 00:00:00.060"
                    },
                    "metadata": {}
                },
                {
                    "output_type": "execute_result",
                    "metadata": {},
                    "execution_count": 17,
                    "data": {
                        "application/vnd.dataresource+json": {
                            "schema": {
                                "fields": [
                                    {
                                        "name": "loan_status"
                                    },
                                    {
                                        "name": "LoanCount"
                                    },
                                    {
                                        "name": "Total_Amount_Received"
                                    },
                                    {
                                        "name": "Total_Funded_Amount"
                                    },
                                    {
                                        "name": "Interest_Rate"
                                    },
                                    {
                                        "name": "DTI"
                                    }
                                ]
                            },
                            "data": [
                                {
                                    "loan_status": "Fully Paid",
                                    "LoanCount": "32145",
                                    "Total_Amount_Received": "411586256",
                                    "Total_Funded_Amount": "351358350",
                                    "Interest_Rate": "11.641070773060042",
                                    "DTI": "13.167350754394208"
                                },
                                {
                                    "loan_status": "Charged Off",
                                    "LoanCount": "5333",
                                    "Total_Amount_Received": "37284763",
                                    "Total_Funded_Amount": "65532225",
                                    "Interest_Rate": "13.878574910931833",
                                    "DTI": "14.004732795799702"
                                },
                                {
                                    "loan_status": "Current",
                                    "LoanCount": "1098",
                                    "Total_Amount_Received": "24199914",
                                    "Total_Funded_Amount": "18866500",
                                    "Interest_Rate": "15.099326047358753",
                                    "DTI": "14.724344262295066"
                                }
                            ]
                        },
                        "text/html": [
                            "<table>",
                            "<tr><th>loan_status</th><th>LoanCount</th><th>Total_Amount_Received</th><th>Total_Funded_Amount</th><th>Interest_Rate</th><th>DTI</th></tr>",
                            "<tr><td>Fully Paid</td><td>32145</td><td>411586256</td><td>351358350</td><td>11.641070773060042</td><td>13.167350754394208</td></tr>",
                            "<tr><td>Charged Off</td><td>5333</td><td>37284763</td><td>65532225</td><td>13.878574910931833</td><td>14.004732795799702</td></tr>",
                            "<tr><td>Current</td><td>1098</td><td>24199914</td><td>18866500</td><td>15.099326047358753</td><td>14.724344262295066</td></tr>",
                            "</table>"
                        ]
                    }
                }
            ],
            "execution_count": 17
        },
        {
            "cell_type": "code",
            "source": [
                "SELECT \n",
                "\tloan_status, \n",
                "\tSUM(total_payment) AS MTD_Total_Amount_Received, \n",
                "\tSUM(loan_amount) AS MTD_Total_Funded_Amount \n",
                "FROM bank_loan_df\n",
                "WHERE MONTH(issue_date) = 12 \n",
                "GROUP BY loan_status\n",
                ""
            ],
            "metadata": {
                "language": "sql",
                "azdata_cell_guid": "db88a2c7-f3ae-4f77-92b6-68f0ff242866"
            },
            "outputs": [
                {
                    "output_type": "display_data",
                    "data": {
                        "text/html": "(3 rows affected)"
                    },
                    "metadata": {}
                },
                {
                    "output_type": "display_data",
                    "data": {
                        "text/html": "Total execution time: 00:00:00.048"
                    },
                    "metadata": {}
                },
                {
                    "output_type": "execute_result",
                    "metadata": {},
                    "execution_count": 18,
                    "data": {
                        "application/vnd.dataresource+json": {
                            "schema": {
                                "fields": [
                                    {
                                        "name": "loan_status"
                                    },
                                    {
                                        "name": "MTD_Total_Amount_Received"
                                    },
                                    {
                                        "name": "MTD_Total_Funded_Amount"
                                    }
                                ]
                            },
                            "data": [
                                {
                                    "loan_status": "Fully Paid",
                                    "MTD_Total_Amount_Received": "47815851",
                                    "MTD_Total_Funded_Amount": "41302025"
                                },
                                {
                                    "loan_status": "Charged Off",
                                    "MTD_Total_Amount_Received": "5324211",
                                    "MTD_Total_Funded_Amount": "8732775"
                                },
                                {
                                    "loan_status": "Current",
                                    "MTD_Total_Amount_Received": "4934318",
                                    "MTD_Total_Funded_Amount": "3946625"
                                }
                            ]
                        },
                        "text/html": [
                            "<table>",
                            "<tr><th>loan_status</th><th>MTD_Total_Amount_Received</th><th>MTD_Total_Funded_Amount</th></tr>",
                            "<tr><td>Fully Paid</td><td>47815851</td><td>41302025</td></tr>",
                            "<tr><td>Charged Off</td><td>5324211</td><td>8732775</td></tr>",
                            "<tr><td>Current</td><td>4934318</td><td>3946625</td></tr>",
                            "</table>"
                        ]
                    }
                }
            ],
            "execution_count": 18
        },
        {
            "cell_type": "markdown",
            "source": [
                "### **Good Loan VS Bad Loan**\n",
                "\n",
                "Now let's Let's develop key metrics to compare **charged-off** loans (bad loan) against those that are **fully paid** or **current** (good loan)"
            ],
            "metadata": {
                "language": "sql",
                "azdata_cell_guid": "defc0140-efcd-43ee-b6e1-5528eff30e9d"
            },
            "attachments": {}
        },
        {
            "cell_type": "code",
            "source": [
                "-- Good Loan Percentage\n",
                "SELECT\n",
                "    (COUNT(CASE WHEN loan_status = 'Fully Paid' OR loan_status = 'Current' THEN id END) * 100.0) / \n",
                "\tCOUNT(id) AS Good_Loan_Percentage\n",
                "FROM bank_loan_df"
            ],
            "metadata": {
                "language": "sql",
                "azdata_cell_guid": "608be2af-82ea-4398-ab05-19d273b27e4c"
            },
            "outputs": [
                {
                    "output_type": "display_data",
                    "data": {
                        "text/html": "Warning: Null value is eliminated by an aggregate or other SET operation."
                    },
                    "metadata": {}
                },
                {
                    "output_type": "display_data",
                    "data": {
                        "text/html": "(1 row affected)"
                    },
                    "metadata": {}
                },
                {
                    "output_type": "display_data",
                    "data": {
                        "text/html": "Total execution time: 00:00:00.033"
                    },
                    "metadata": {}
                },
                {
                    "output_type": "execute_result",
                    "metadata": {},
                    "execution_count": 16,
                    "data": {
                        "application/vnd.dataresource+json": {
                            "schema": {
                                "fields": [
                                    {
                                        "name": "Good_Loan_Percentage"
                                    }
                                ]
                            },
                            "data": [
                                {
                                    "Good_Loan_Percentage": "86.175342181667"
                                }
                            ]
                        },
                        "text/html": [
                            "<table>",
                            "<tr><th>Good_Loan_Percentage</th></tr>",
                            "<tr><td>86.175342181667</td></tr>",
                            "</table>"
                        ]
                    }
                }
            ],
            "execution_count": 16
        },
        {
            "cell_type": "code",
            "source": [
                "-- Good Loan Applications\n",
                "SELECT COUNT(id) AS Good_Loan_Applications FROM bank_loan_df\n",
                "WHERE loan_status = 'Fully Paid' OR loan_status = 'Current'"
            ],
            "metadata": {
                "language": "sql",
                "azdata_cell_guid": "f547ea94-11e7-4b03-bcc5-b40c5b679bd9"
            },
            "outputs": [
                {
                    "output_type": "display_data",
                    "data": {
                        "text/html": "(1 row affected)"
                    },
                    "metadata": {}
                },
                {
                    "output_type": "display_data",
                    "data": {
                        "text/html": "Total execution time: 00:00:00.033"
                    },
                    "metadata": {}
                },
                {
                    "output_type": "execute_result",
                    "metadata": {},
                    "execution_count": 9,
                    "data": {
                        "application/vnd.dataresource+json": {
                            "schema": {
                                "fields": [
                                    {
                                        "name": "Good_Loan_Applications"
                                    }
                                ]
                            },
                            "data": [
                                {
                                    "Good_Loan_Applications": "33243"
                                }
                            ]
                        },
                        "text/html": [
                            "<table>",
                            "<tr><th>Good_Loan_Applications</th></tr>",
                            "<tr><td>33243</td></tr>",
                            "</table>"
                        ]
                    }
                }
            ],
            "execution_count": 9
        },
        {
            "cell_type": "code",
            "source": [
                "-- Good Loan Funded Amount\n",
                "SELECT SUM(loan_amount) AS Good_Loan_Funded_amount FROM bank_loan_df\n",
                "WHERE loan_status = 'Fully Paid' OR loan_status = 'Current'"
            ],
            "metadata": {
                "language": "sql",
                "azdata_cell_guid": "57304737-9fa8-433d-ac03-c25694486f56"
            },
            "outputs": [
                {
                    "output_type": "display_data",
                    "data": {
                        "text/html": "(1 row affected)"
                    },
                    "metadata": {}
                },
                {
                    "output_type": "display_data",
                    "data": {
                        "text/html": "Total execution time: 00:00:00.016"
                    },
                    "metadata": {}
                },
                {
                    "output_type": "execute_result",
                    "metadata": {},
                    "execution_count": 10,
                    "data": {
                        "application/vnd.dataresource+json": {
                            "schema": {
                                "fields": [
                                    {
                                        "name": "Good_Loan_Funded_amount"
                                    }
                                ]
                            },
                            "data": [
                                {
                                    "Good_Loan_Funded_amount": "370224850"
                                }
                            ]
                        },
                        "text/html": [
                            "<table>",
                            "<tr><th>Good_Loan_Funded_amount</th></tr>",
                            "<tr><td>370224850</td></tr>",
                            "</table>"
                        ]
                    }
                }
            ],
            "execution_count": 10
        },
        {
            "cell_type": "code",
            "source": [
                "-- Good Loan Amount Received\n",
                "SELECT SUM(total_payment) AS Good_Loan_amount_received FROM bank_loan_df\n",
                "WHERE loan_status = 'Fully Paid' OR loan_status = 'Current'"
            ],
            "metadata": {
                "language": "sql",
                "azdata_cell_guid": "4aa151bd-2550-47cf-baeb-310332523c19",
                "tags": []
            },
            "outputs": [
                {
                    "output_type": "display_data",
                    "data": {
                        "text/html": "(1 row affected)"
                    },
                    "metadata": {}
                },
                {
                    "output_type": "display_data",
                    "data": {
                        "text/html": "Total execution time: 00:00:00.032"
                    },
                    "metadata": {}
                },
                {
                    "output_type": "execute_result",
                    "metadata": {},
                    "execution_count": 11,
                    "data": {
                        "application/vnd.dataresource+json": {
                            "schema": {
                                "fields": [
                                    {
                                        "name": "Good_Loan_amount_received"
                                    }
                                ]
                            },
                            "data": [
                                {
                                    "Good_Loan_amount_received": "435786170"
                                }
                            ]
                        },
                        "text/html": [
                            "<table>",
                            "<tr><th>Good_Loan_amount_received</th></tr>",
                            "<tr><td>435786170</td></tr>",
                            "</table>"
                        ]
                    }
                }
            ],
            "execution_count": 11
        },
        {
            "cell_type": "code",
            "source": [
                "-- Bad Loan Percentage\n",
                "SELECT\n",
                "    (COUNT(CASE WHEN loan_status = 'Charged Off' THEN id END) * 100.0) / \n",
                "\tCOUNT(id) AS Bad_Loan_Percentage\n",
                "FROM bank_loan_df"
            ],
            "metadata": {
                "language": "sql",
                "azdata_cell_guid": "29afa74b-a068-4952-b811-ef18283a44a6"
            },
            "outputs": [
                {
                    "output_type": "display_data",
                    "data": {
                        "text/html": "Warning: Null value is eliminated by an aggregate or other SET operation."
                    },
                    "metadata": {}
                },
                {
                    "output_type": "display_data",
                    "data": {
                        "text/html": "(1 row affected)"
                    },
                    "metadata": {}
                },
                {
                    "output_type": "display_data",
                    "data": {
                        "text/html": "Total execution time: 00:00:00.026"
                    },
                    "metadata": {}
                },
                {
                    "output_type": "execute_result",
                    "metadata": {},
                    "execution_count": 12,
                    "data": {
                        "application/vnd.dataresource+json": {
                            "schema": {
                                "fields": [
                                    {
                                        "name": "Bad_Loan_Percentage"
                                    }
                                ]
                            },
                            "data": [
                                {
                                    "Bad_Loan_Percentage": "13.824657818332"
                                }
                            ]
                        },
                        "text/html": [
                            "<table>",
                            "<tr><th>Bad_Loan_Percentage</th></tr>",
                            "<tr><td>13.824657818332</td></tr>",
                            "</table>"
                        ]
                    }
                }
            ],
            "execution_count": 12
        },
        {
            "cell_type": "code",
            "source": [
                "-- Bad Loan Applications\n",
                "SELECT COUNT(id) AS Bad_Loan_Applications FROM bank_loan_df\n",
                "WHERE loan_status = 'Charged Off'"
            ],
            "metadata": {
                "language": "sql",
                "azdata_cell_guid": "2959dff9-5763-4edd-a993-d4521ac6b4c6"
            },
            "outputs": [
                {
                    "output_type": "display_data",
                    "data": {
                        "text/html": "(1 row affected)"
                    },
                    "metadata": {}
                },
                {
                    "output_type": "display_data",
                    "data": {
                        "text/html": "Total execution time: 00:00:00.017"
                    },
                    "metadata": {}
                },
                {
                    "output_type": "execute_result",
                    "metadata": {},
                    "execution_count": 13,
                    "data": {
                        "application/vnd.dataresource+json": {
                            "schema": {
                                "fields": [
                                    {
                                        "name": "Bad_Loan_Applications"
                                    }
                                ]
                            },
                            "data": [
                                {
                                    "Bad_Loan_Applications": "5333"
                                }
                            ]
                        },
                        "text/html": [
                            "<table>",
                            "<tr><th>Bad_Loan_Applications</th></tr>",
                            "<tr><td>5333</td></tr>",
                            "</table>"
                        ]
                    }
                }
            ],
            "execution_count": 13
        },
        {
            "cell_type": "code",
            "source": [
                "-- Bad Loan Funded Amount\n",
                "SELECT SUM(loan_amount) AS Bad_Loan_Funded_amount FROM bank_loan_df\n",
                "WHERE loan_status = 'Charged Off'"
            ],
            "metadata": {
                "language": "sql",
                "azdata_cell_guid": "70be701b-017c-4389-934d-8f313d091783"
            },
            "outputs": [
                {
                    "output_type": "display_data",
                    "data": {
                        "text/html": "(1 row affected)"
                    },
                    "metadata": {}
                },
                {
                    "output_type": "display_data",
                    "data": {
                        "text/html": "Total execution time: 00:00:00.019"
                    },
                    "metadata": {}
                },
                {
                    "output_type": "execute_result",
                    "metadata": {},
                    "execution_count": 14,
                    "data": {
                        "application/vnd.dataresource+json": {
                            "schema": {
                                "fields": [
                                    {
                                        "name": "Bad_Loan_Funded_amount"
                                    }
                                ]
                            },
                            "data": [
                                {
                                    "Bad_Loan_Funded_amount": "65532225"
                                }
                            ]
                        },
                        "text/html": [
                            "<table>",
                            "<tr><th>Bad_Loan_Funded_amount</th></tr>",
                            "<tr><td>65532225</td></tr>",
                            "</table>"
                        ]
                    }
                }
            ],
            "execution_count": 14
        },
        {
            "cell_type": "code",
            "source": [
                "-- Bad Loan Amount Received\n",
                "SELECT SUM(total_payment) AS Bad_Loan_amount_received FROM bank_loan_df\n",
                "WHERE loan_status = 'Charged Off'"
            ],
            "metadata": {
                "language": "sql",
                "azdata_cell_guid": "6efdebea-055d-4c21-8abf-ea62d413c512"
            },
            "outputs": [
                {
                    "output_type": "display_data",
                    "data": {
                        "text/html": "(1 row affected)"
                    },
                    "metadata": {}
                },
                {
                    "output_type": "display_data",
                    "data": {
                        "text/html": "Total execution time: 00:00:00.018"
                    },
                    "metadata": {}
                },
                {
                    "output_type": "execute_result",
                    "metadata": {},
                    "execution_count": 15,
                    "data": {
                        "application/vnd.dataresource+json": {
                            "schema": {
                                "fields": [
                                    {
                                        "name": "Bad_Loan_amount_received"
                                    }
                                ]
                            },
                            "data": [
                                {
                                    "Bad_Loan_amount_received": "37284763"
                                }
                            ]
                        },
                        "text/html": [
                            "<table>",
                            "<tr><th>Bad_Loan_amount_received</th></tr>",
                            "<tr><td>37284763</td></tr>",
                            "</table>"
                        ]
                    }
                }
            ],
            "execution_count": 15
        },
        {
            "cell_type": "markdown",
            "source": [
                "## **B. Overview Section**"
            ],
            "metadata": {
                "language": "sql",
                "azdata_cell_guid": "f1b2500f-76f1-4842-a331-c68d60382f46"
            },
            "attachments": {}
        },
        {
            "cell_type": "code",
            "source": [
                "-- Monthly Trends by issue_date\n",
                "SELECT \n",
                "\tMONTH(issue_date) AS Month_Munber, \n",
                "\tDATENAME(MONTH, issue_date) AS Month_name, \n",
                "\tCOUNT(id) AS Total_Loan_Applications,\n",
                "\tSUM(loan_amount) AS Total_Funded_Amount,\n",
                "\tSUM(total_payment) AS Total_Amount_Received\n",
                "FROM bank_loan_df\n",
                "GROUP BY MONTH(issue_date), DATENAME(MONTH, issue_date)\n",
                "ORDER BY MONTH(issue_date)\n",
                ""
            ],
            "metadata": {
                "language": "sql",
                "azdata_cell_guid": "b1516943-105c-47b8-8d1e-ee9a684eb01e"
            },
            "outputs": [
                {
                    "output_type": "display_data",
                    "data": {
                        "text/html": "(12 rows affected)"
                    },
                    "metadata": {}
                },
                {
                    "output_type": "display_data",
                    "data": {
                        "text/html": "Total execution time: 00:00:00.063"
                    },
                    "metadata": {}
                },
                {
                    "output_type": "execute_result",
                    "metadata": {},
                    "execution_count": 25,
                    "data": {
                        "application/vnd.dataresource+json": {
                            "schema": {
                                "fields": [
                                    {
                                        "name": "Month_Munber"
                                    },
                                    {
                                        "name": "Month_name"
                                    },
                                    {
                                        "name": "Total_Loan_Applications"
                                    },
                                    {
                                        "name": "Total_Funded_Amount"
                                    },
                                    {
                                        "name": "Total_Amount_Received"
                                    }
                                ]
                            },
                            "data": [
                                {
                                    "Month_Munber": "1",
                                    "Month_name": "January",
                                    "Total_Loan_Applications": "2332",
                                    "Total_Funded_Amount": "25031650",
                                    "Total_Amount_Received": "27578836"
                                },
                                {
                                    "Month_Munber": "2",
                                    "Month_name": "February",
                                    "Total_Loan_Applications": "2279",
                                    "Total_Funded_Amount": "24647825",
                                    "Total_Amount_Received": "27717745"
                                },
                                {
                                    "Month_Munber": "3",
                                    "Month_name": "March",
                                    "Total_Loan_Applications": "2627",
                                    "Total_Funded_Amount": "28875700",
                                    "Total_Amount_Received": "32264400"
                                },
                                {
                                    "Month_Munber": "4",
                                    "Month_name": "April",
                                    "Total_Loan_Applications": "2755",
                                    "Total_Funded_Amount": "29800800",
                                    "Total_Amount_Received": "32495533"
                                },
                                {
                                    "Month_Munber": "5",
                                    "Month_name": "May",
                                    "Total_Loan_Applications": "2911",
                                    "Total_Funded_Amount": "31738350",
                                    "Total_Amount_Received": "33750523"
                                },
                                {
                                    "Month_Munber": "6",
                                    "Month_name": "June",
                                    "Total_Loan_Applications": "3184",
                                    "Total_Funded_Amount": "34161475",
                                    "Total_Amount_Received": "36164533"
                                },
                                {
                                    "Month_Munber": "7",
                                    "Month_name": "July",
                                    "Total_Loan_Applications": "3366",
                                    "Total_Funded_Amount": "35813900",
                                    "Total_Amount_Received": "38827220"
                                },
                                {
                                    "Month_Munber": "8",
                                    "Month_name": "August",
                                    "Total_Loan_Applications": "3441",
                                    "Total_Funded_Amount": "38149600",
                                    "Total_Amount_Received": "42682218"
                                },
                                {
                                    "Month_Munber": "9",
                                    "Month_name": "September",
                                    "Total_Loan_Applications": "3536",
                                    "Total_Funded_Amount": "40907725",
                                    "Total_Amount_Received": "43983948"
                                },
                                {
                                    "Month_Munber": "10",
                                    "Month_name": "October",
                                    "Total_Loan_Applications": "3796",
                                    "Total_Funded_Amount": "44893800",
                                    "Total_Amount_Received": "49399567"
                                },
                                {
                                    "Month_Munber": "11",
                                    "Month_name": "November",
                                    "Total_Loan_Applications": "4035",
                                    "Total_Funded_Amount": "47754825",
                                    "Total_Amount_Received": "50132030"
                                },
                                {
                                    "Month_Munber": "12",
                                    "Month_name": "December",
                                    "Total_Loan_Applications": "4314",
                                    "Total_Funded_Amount": "53981425",
                                    "Total_Amount_Received": "58074380"
                                }
                            ]
                        },
                        "text/html": [
                            "<table>",
                            "<tr><th>Month_Munber</th><th>Month_name</th><th>Total_Loan_Applications</th><th>Total_Funded_Amount</th><th>Total_Amount_Received</th></tr>",
                            "<tr><td>1</td><td>January</td><td>2332</td><td>25031650</td><td>27578836</td></tr>",
                            "<tr><td>2</td><td>February</td><td>2279</td><td>24647825</td><td>27717745</td></tr>",
                            "<tr><td>3</td><td>March</td><td>2627</td><td>28875700</td><td>32264400</td></tr>",
                            "<tr><td>4</td><td>April</td><td>2755</td><td>29800800</td><td>32495533</td></tr>",
                            "<tr><td>5</td><td>May</td><td>2911</td><td>31738350</td><td>33750523</td></tr>",
                            "<tr><td>6</td><td>June</td><td>3184</td><td>34161475</td><td>36164533</td></tr>",
                            "<tr><td>7</td><td>July</td><td>3366</td><td>35813900</td><td>38827220</td></tr>",
                            "<tr><td>8</td><td>August</td><td>3441</td><td>38149600</td><td>42682218</td></tr>",
                            "<tr><td>9</td><td>September</td><td>3536</td><td>40907725</td><td>43983948</td></tr>",
                            "<tr><td>10</td><td>October</td><td>3796</td><td>44893800</td><td>49399567</td></tr>",
                            "<tr><td>11</td><td>November</td><td>4035</td><td>47754825</td><td>50132030</td></tr>",
                            "<tr><td>12</td><td>December</td><td>4314</td><td>53981425</td><td>58074380</td></tr>",
                            "</table>"
                        ]
                    }
                }
            ],
            "execution_count": 25
        },
        {
            "cell_type": "code",
            "source": [
                "-- State Breakdown\n",
                "SELECT Top 5\n",
                "\taddress_state AS State, \n",
                "\tCOUNT(id) AS Total_Loan_Applications,\n",
                "\tSUM(loan_amount) AS Total_Funded_Amount,\n",
                "\tSUM(total_payment) AS Total_Amount_Received\n",
                "FROM bank_loan_df\n",
                "GROUP BY address_state\n",
                "ORDER BY Total_Loan_Applications DESC\n",
                "\n",
                ""
            ],
            "metadata": {
                "azdata_cell_guid": "a3a8e42c-b981-4b91-b689-d95f7b9a96f8",
                "language": "sql"
            },
            "outputs": [
                {
                    "output_type": "display_data",
                    "data": {
                        "text/html": "(5 rows affected)"
                    },
                    "metadata": {}
                },
                {
                    "output_type": "display_data",
                    "data": {
                        "text/html": "Total execution time: 00:00:00.041"
                    },
                    "metadata": {}
                },
                {
                    "output_type": "execute_result",
                    "metadata": {},
                    "execution_count": 31,
                    "data": {
                        "application/vnd.dataresource+json": {
                            "schema": {
                                "fields": [
                                    {
                                        "name": "State"
                                    },
                                    {
                                        "name": "Total_Loan_Applications"
                                    },
                                    {
                                        "name": "Total_Funded_Amount"
                                    },
                                    {
                                        "name": "Total_Amount_Received"
                                    }
                                ]
                            },
                            "data": [
                                {
                                    "State": "CA",
                                    "Total_Loan_Applications": "6894",
                                    "Total_Funded_Amount": "78484125",
                                    "Total_Amount_Received": "83901234"
                                },
                                {
                                    "State": "NY",
                                    "Total_Loan_Applications": "3701",
                                    "Total_Funded_Amount": "42077050",
                                    "Total_Amount_Received": "46108181"
                                },
                                {
                                    "State": "FL",
                                    "Total_Loan_Applications": "2773",
                                    "Total_Funded_Amount": "30046125",
                                    "Total_Amount_Received": "31601905"
                                },
                                {
                                    "State": "TX",
                                    "Total_Loan_Applications": "2664",
                                    "Total_Funded_Amount": "31236650",
                                    "Total_Amount_Received": "34392715"
                                },
                                {
                                    "State": "NJ",
                                    "Total_Loan_Applications": "1822",
                                    "Total_Funded_Amount": "21657475",
                                    "Total_Amount_Received": "23425159"
                                }
                            ]
                        },
                        "text/html": [
                            "<table>",
                            "<tr><th>State</th><th>Total_Loan_Applications</th><th>Total_Funded_Amount</th><th>Total_Amount_Received</th></tr>",
                            "<tr><td>CA</td><td>6894</td><td>78484125</td><td>83901234</td></tr>",
                            "<tr><td>NY</td><td>3701</td><td>42077050</td><td>46108181</td></tr>",
                            "<tr><td>FL</td><td>2773</td><td>30046125</td><td>31601905</td></tr>",
                            "<tr><td>TX</td><td>2664</td><td>31236650</td><td>34392715</td></tr>",
                            "<tr><td>NJ</td><td>1822</td><td>21657475</td><td>23425159</td></tr>",
                            "</table>"
                        ]
                    }
                }
            ],
            "execution_count": 31
        },
        {
            "cell_type": "code",
            "source": [
                "-- Loan Term Analysis\n",
                "SELECT \n",
                "\tterm AS Term, \n",
                "\tCOUNT(id) AS Total_Loan_Applications,\n",
                "\tSUM(loan_amount) AS Total_Funded_Amount,\n",
                "\tSUM(total_payment) AS Total_Amount_Received\n",
                "FROM bank_loan_df\n",
                "GROUP BY term\n",
                "ORDER BY term"
            ],
            "metadata": {
                "language": "sql",
                "azdata_cell_guid": "643fe205-96ed-414b-9db3-8f74e0dc4a10"
            },
            "outputs": [
                {
                    "output_type": "display_data",
                    "data": {
                        "text/html": "(2 rows affected)"
                    },
                    "metadata": {}
                },
                {
                    "output_type": "display_data",
                    "data": {
                        "text/html": "Total execution time: 00:00:00.099"
                    },
                    "metadata": {}
                },
                {
                    "output_type": "execute_result",
                    "metadata": {},
                    "execution_count": 32,
                    "data": {
                        "application/vnd.dataresource+json": {
                            "schema": {
                                "fields": [
                                    {
                                        "name": "Term"
                                    },
                                    {
                                        "name": "Total_Loan_Applications"
                                    },
                                    {
                                        "name": "Total_Funded_Amount"
                                    },
                                    {
                                        "name": "Total_Amount_Received"
                                    }
                                ]
                            },
                            "data": [
                                {
                                    "Term": "36 months",
                                    "Total_Loan_Applications": "28237",
                                    "Total_Funded_Amount": "273041225",
                                    "Total_Amount_Received": "294709458"
                                },
                                {
                                    "Term": "60 months",
                                    "Total_Loan_Applications": "10339",
                                    "Total_Funded_Amount": "162715850",
                                    "Total_Amount_Received": "178361475"
                                }
                            ]
                        },
                        "text/html": [
                            "<table>",
                            "<tr><th>Term</th><th>Total_Loan_Applications</th><th>Total_Funded_Amount</th><th>Total_Amount_Received</th></tr>",
                            "<tr><td>36 months</td><td>28237</td><td>273041225</td><td>294709458</td></tr>",
                            "<tr><td>60 months</td><td>10339</td><td>162715850</td><td>178361475</td></tr>",
                            "</table>"
                        ]
                    }
                }
            ],
            "execution_count": 32
        },
        {
            "cell_type": "code",
            "source": [
                "-- Employee Length\n",
                "SELECT \n",
                "\temp_length AS Employee_Length, \n",
                "\tCOUNT(id) AS Total_Loan_Applications,\n",
                "\tSUM(loan_amount) AS Total_Funded_Amount,\n",
                "\tSUM(total_payment) AS Total_Amount_Received\n",
                "FROM bank_loan_df\n",
                "GROUP BY emp_length\n",
                "ORDER BY emp_length"
            ],
            "metadata": {
                "azdata_cell_guid": "fe7f425c-7871-4110-8cfc-e451541373da",
                "language": "sql"
            },
            "outputs": [
                {
                    "output_type": "display_data",
                    "data": {
                        "text/html": "(11 rows affected)"
                    },
                    "metadata": {}
                },
                {
                    "output_type": "display_data",
                    "data": {
                        "text/html": "Total execution time: 00:00:00.036"
                    },
                    "metadata": {}
                },
                {
                    "output_type": "execute_result",
                    "metadata": {},
                    "execution_count": 42,
                    "data": {
                        "application/vnd.dataresource+json": {
                            "schema": {
                                "fields": [
                                    {
                                        "name": "Employee_Length"
                                    },
                                    {
                                        "name": "Total_Loan_Applications"
                                    },
                                    {
                                        "name": "Total_Funded_Amount"
                                    },
                                    {
                                        "name": "Total_Amount_Received"
                                    }
                                ]
                            },
                            "data": [
                                {
                                    "Employee_Length": "< 1 year",
                                    "Total_Loan_Applications": "4575",
                                    "Total_Funded_Amount": "44210625",
                                    "Total_Amount_Received": "47545011"
                                },
                                {
                                    "Employee_Length": "1 year",
                                    "Total_Loan_Applications": "3229",
                                    "Total_Funded_Amount": "32883125",
                                    "Total_Amount_Received": "35498348"
                                },
                                {
                                    "Employee_Length": "10+ years",
                                    "Total_Loan_Applications": "8870",
                                    "Total_Funded_Amount": "116115950",
                                    "Total_Amount_Received": "125871616"
                                },
                                {
                                    "Employee_Length": "2 years",
                                    "Total_Loan_Applications": "4382",
                                    "Total_Funded_Amount": "44967975",
                                    "Total_Amount_Received": "49206961"
                                },
                                {
                                    "Employee_Length": "3 years",
                                    "Total_Loan_Applications": "4088",
                                    "Total_Funded_Amount": "43937850",
                                    "Total_Amount_Received": "47551832"
                                },
                                {
                                    "Employee_Length": "4 years",
                                    "Total_Loan_Applications": "3428",
                                    "Total_Funded_Amount": "37600375",
                                    "Total_Amount_Received": "40964850"
                                },
                                {
                                    "Employee_Length": "5 years",
                                    "Total_Loan_Applications": "3273",
                                    "Total_Funded_Amount": "36973625",
                                    "Total_Amount_Received": "40397571"
                                },
                                {
                                    "Employee_Length": "6 years",
                                    "Total_Loan_Applications": "2228",
                                    "Total_Funded_Amount": "25612650",
                                    "Total_Amount_Received": "27908658"
                                },
                                {
                                    "Employee_Length": "7 years",
                                    "Total_Loan_Applications": "1772",
                                    "Total_Funded_Amount": "20811725",
                                    "Total_Amount_Received": "22584136"
                                },
                                {
                                    "Employee_Length": "8 years",
                                    "Total_Loan_Applications": "1476",
                                    "Total_Funded_Amount": "17558950",
                                    "Total_Amount_Received": "19025777"
                                },
                                {
                                    "Employee_Length": "9 years",
                                    "Total_Loan_Applications": "1255",
                                    "Total_Funded_Amount": "15084225",
                                    "Total_Amount_Received": "16516173"
                                }
                            ]
                        },
                        "text/html": [
                            "<table>",
                            "<tr><th>Employee_Length</th><th>Total_Loan_Applications</th><th>Total_Funded_Amount</th><th>Total_Amount_Received</th></tr>",
                            "<tr><td>&lt; 1 year</td><td>4575</td><td>44210625</td><td>47545011</td></tr>",
                            "<tr><td>1 year</td><td>3229</td><td>32883125</td><td>35498348</td></tr>",
                            "<tr><td>10+ years</td><td>8870</td><td>116115950</td><td>125871616</td></tr>",
                            "<tr><td>2 years</td><td>4382</td><td>44967975</td><td>49206961</td></tr>",
                            "<tr><td>3 years</td><td>4088</td><td>43937850</td><td>47551832</td></tr>",
                            "<tr><td>4 years</td><td>3428</td><td>37600375</td><td>40964850</td></tr>",
                            "<tr><td>5 years</td><td>3273</td><td>36973625</td><td>40397571</td></tr>",
                            "<tr><td>6 years</td><td>2228</td><td>25612650</td><td>27908658</td></tr>",
                            "<tr><td>7 years</td><td>1772</td><td>20811725</td><td>22584136</td></tr>",
                            "<tr><td>8 years</td><td>1476</td><td>17558950</td><td>19025777</td></tr>",
                            "<tr><td>9 years</td><td>1255</td><td>15084225</td><td>16516173</td></tr>",
                            "</table>"
                        ]
                    }
                }
            ],
            "execution_count": 42
        },
        {
            "cell_type": "code",
            "source": [
                "-- Purpose Breakdown\n",
                "SELECT \n",
                "\tpurpose AS PURPOSE, \n",
                "\tCOUNT(id) AS Total_Loan_Applications,\n",
                "\tSUM(loan_amount) AS Total_Funded_Amount,\n",
                "\tSUM(total_payment) AS Total_Amount_Received\n",
                "FROM bank_loan_df\n",
                "GROUP BY purpose\n",
                "ORDER BY Total_Loan_Applications DESC"
            ],
            "metadata": {
                "azdata_cell_guid": "72cdf144-8e29-4155-8086-e4b62880d2b0",
                "language": "sql"
            },
            "outputs": [
                {
                    "output_type": "display_data",
                    "data": {
                        "text/html": "(14 rows affected)"
                    },
                    "metadata": {}
                },
                {
                    "output_type": "display_data",
                    "data": {
                        "text/html": "Total execution time: 00:00:00.037"
                    },
                    "metadata": {}
                },
                {
                    "output_type": "execute_result",
                    "metadata": {},
                    "execution_count": 38,
                    "data": {
                        "application/vnd.dataresource+json": {
                            "schema": {
                                "fields": [
                                    {
                                        "name": "PURPOSE"
                                    },
                                    {
                                        "name": "Total_Loan_Applications"
                                    },
                                    {
                                        "name": "Total_Funded_Amount"
                                    },
                                    {
                                        "name": "Total_Amount_Received"
                                    }
                                ]
                            },
                            "data": [
                                {
                                    "PURPOSE": "Debt consolidation",
                                    "Total_Loan_Applications": "18214",
                                    "Total_Funded_Amount": "232459675",
                                    "Total_Amount_Received": "253801871"
                                },
                                {
                                    "PURPOSE": "credit card",
                                    "Total_Loan_Applications": "4998",
                                    "Total_Funded_Amount": "58885175",
                                    "Total_Amount_Received": "65214084"
                                },
                                {
                                    "PURPOSE": "other",
                                    "Total_Loan_Applications": "3824",
                                    "Total_Funded_Amount": "31155750",
                                    "Total_Amount_Received": "33289676"
                                },
                                {
                                    "PURPOSE": "home improvement",
                                    "Total_Loan_Applications": "2876",
                                    "Total_Funded_Amount": "33350775",
                                    "Total_Amount_Received": "36380930"
                                },
                                {
                                    "PURPOSE": "major purchase",
                                    "Total_Loan_Applications": "2110",
                                    "Total_Funded_Amount": "17251600",
                                    "Total_Amount_Received": "18676927"
                                },
                                {
                                    "PURPOSE": "small business",
                                    "Total_Loan_Applications": "1776",
                                    "Total_Funded_Amount": "24123100",
                                    "Total_Amount_Received": "23814817"
                                },
                                {
                                    "PURPOSE": "car",
                                    "Total_Loan_Applications": "1497",
                                    "Total_Funded_Amount": "10223575",
                                    "Total_Amount_Received": "11324914"
                                },
                                {
                                    "PURPOSE": "wedding",
                                    "Total_Loan_Applications": "928",
                                    "Total_Funded_Amount": "9225800",
                                    "Total_Amount_Received": "10266856"
                                },
                                {
                                    "PURPOSE": "medical",
                                    "Total_Loan_Applications": "667",
                                    "Total_Funded_Amount": "5533225",
                                    "Total_Amount_Received": "5851372"
                                },
                                {
                                    "PURPOSE": "moving",
                                    "Total_Loan_Applications": "559",
                                    "Total_Funded_Amount": "3748125",
                                    "Total_Amount_Received": "3999899"
                                },
                                {
                                    "PURPOSE": "house",
                                    "Total_Loan_Applications": "366",
                                    "Total_Funded_Amount": "4824925",
                                    "Total_Amount_Received": "5185538"
                                },
                                {
                                    "PURPOSE": "vacation",
                                    "Total_Loan_Applications": "352",
                                    "Total_Funded_Amount": "1967950",
                                    "Total_Amount_Received": "2116738"
                                },
                                {
                                    "PURPOSE": "educational",
                                    "Total_Loan_Applications": "315",
                                    "Total_Funded_Amount": "2161650",
                                    "Total_Amount_Received": "2248380"
                                },
                                {
                                    "PURPOSE": "renewable_energy",
                                    "Total_Loan_Applications": "94",
                                    "Total_Funded_Amount": "845750",
                                    "Total_Amount_Received": "898931"
                                }
                            ]
                        },
                        "text/html": [
                            "<table>",
                            "<tr><th>PURPOSE</th><th>Total_Loan_Applications</th><th>Total_Funded_Amount</th><th>Total_Amount_Received</th></tr>",
                            "<tr><td>Debt consolidation</td><td>18214</td><td>232459675</td><td>253801871</td></tr>",
                            "<tr><td>credit card</td><td>4998</td><td>58885175</td><td>65214084</td></tr>",
                            "<tr><td>other</td><td>3824</td><td>31155750</td><td>33289676</td></tr>",
                            "<tr><td>home improvement</td><td>2876</td><td>33350775</td><td>36380930</td></tr>",
                            "<tr><td>major purchase</td><td>2110</td><td>17251600</td><td>18676927</td></tr>",
                            "<tr><td>small business</td><td>1776</td><td>24123100</td><td>23814817</td></tr>",
                            "<tr><td>car</td><td>1497</td><td>10223575</td><td>11324914</td></tr>",
                            "<tr><td>wedding</td><td>928</td><td>9225800</td><td>10266856</td></tr>",
                            "<tr><td>medical</td><td>667</td><td>5533225</td><td>5851372</td></tr>",
                            "<tr><td>moving</td><td>559</td><td>3748125</td><td>3999899</td></tr>",
                            "<tr><td>house</td><td>366</td><td>4824925</td><td>5185538</td></tr>",
                            "<tr><td>vacation</td><td>352</td><td>1967950</td><td>2116738</td></tr>",
                            "<tr><td>educational</td><td>315</td><td>2161650</td><td>2248380</td></tr>",
                            "<tr><td>renewable_energy</td><td>94</td><td>845750</td><td>898931</td></tr>",
                            "</table>"
                        ]
                    }
                }
            ],
            "execution_count": 38
        },
        {
            "cell_type": "code",
            "source": [
                "-- Home Ownership\n",
                "SELECT \n",
                "\thome_ownership AS Home_Ownership, \n",
                "\tCOUNT(id) AS Total_Loan_Applications,\n",
                "\tSUM(loan_amount) AS Total_Funded_Amount,\n",
                "\tSUM(total_payment) AS Total_Amount_Received\n",
                "FROM bank_loan_df\n",
                "GROUP BY home_ownership\n",
                "ORDER BY Total_Loan_Applications DESC;"
            ],
            "metadata": {
                "azdata_cell_guid": "cc6016a7-d4d5-4143-98fb-dcb08f6e582b",
                "language": "sql"
            },
            "outputs": [
                {
                    "output_type": "display_data",
                    "data": {
                        "text/html": "(5 rows affected)"
                    },
                    "metadata": {}
                },
                {
                    "output_type": "display_data",
                    "data": {
                        "text/html": "Total execution time: 00:00:00.044"
                    },
                    "metadata": {}
                },
                {
                    "output_type": "execute_result",
                    "metadata": {},
                    "execution_count": 43,
                    "data": {
                        "application/vnd.dataresource+json": {
                            "schema": {
                                "fields": [
                                    {
                                        "name": "Home_Ownership"
                                    },
                                    {
                                        "name": "Total_Loan_Applications"
                                    },
                                    {
                                        "name": "Total_Funded_Amount"
                                    },
                                    {
                                        "name": "Total_Amount_Received"
                                    }
                                ]
                            },
                            "data": [
                                {
                                    "Home_Ownership": "RENT",
                                    "Total_Loan_Applications": "18439",
                                    "Total_Funded_Amount": "185768475",
                                    "Total_Amount_Received": "201823056"
                                },
                                {
                                    "Home_Ownership": "MORTGAGE",
                                    "Total_Loan_Applications": "17198",
                                    "Total_Funded_Amount": "219329150",
                                    "Total_Amount_Received": "238474438"
                                },
                                {
                                    "Home_Ownership": "OWN",
                                    "Total_Loan_Applications": "2838",
                                    "Total_Funded_Amount": "29597675",
                                    "Total_Amount_Received": "31729129"
                                },
                                {
                                    "Home_Ownership": "OTHER",
                                    "Total_Loan_Applications": "98",
                                    "Total_Funded_Amount": "1044975",
                                    "Total_Amount_Received": "1025257"
                                },
                                {
                                    "Home_Ownership": "NONE",
                                    "Total_Loan_Applications": "3",
                                    "Total_Funded_Amount": "16800",
                                    "Total_Amount_Received": "19053"
                                }
                            ]
                        },
                        "text/html": [
                            "<table>",
                            "<tr><th>Home_Ownership</th><th>Total_Loan_Applications</th><th>Total_Funded_Amount</th><th>Total_Amount_Received</th></tr>",
                            "<tr><td>RENT</td><td>18439</td><td>185768475</td><td>201823056</td></tr>",
                            "<tr><td>MORTGAGE</td><td>17198</td><td>219329150</td><td>238474438</td></tr>",
                            "<tr><td>OWN</td><td>2838</td><td>29597675</td><td>31729129</td></tr>",
                            "<tr><td>OTHER</td><td>98</td><td>1044975</td><td>1025257</td></tr>",
                            "<tr><td>NONE</td><td>3</td><td>16800</td><td>19053</td></tr>",
                            "</table>"
                        ]
                    }
                }
            ],
            "execution_count": 43
        }
    ]
}