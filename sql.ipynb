{
    "metadata": {
        "kernelspec": {
            "name": "SQL",
            "display_name": "SQL",
            "language": "sql"
        },
        "language_info": {
            "name": "sql",
            "version": ""
        }
    },
    "nbformat_minor": 2,
    "nbformat": 4,
    "cells": [
        {
            "cell_type": "markdown",
            "source": [
                "# Bank Loan Report"
            ],
            "metadata": {
                "azdata_cell_guid": "f24b9832-4286-4257-842c-9c2486ab30ca"
            },
            "attachments": {}
        },
        {
            "cell_type": "markdown",
            "source": [
                "## **A. Summary**\n",
                "\n",
                "**Let's get the KPI's**"
            ],
            "metadata": {
                "azdata_cell_guid": "f71142d5-75ca-468e-9234-0e7be5d990d4"
            },
            "attachments": {}
        },
        {
            "cell_type": "code",
            "source": [
                "-- Total loan Applications\n",
                "SELECT COUNT(id) AS Total_Applications FROM bank_loan_df;"
            ],
            "metadata": {
                "azdata_cell_guid": "35eedba0-5380-43f7-8154-570388666bad",
                "language": "sql",
                "tags": []
            },
            "outputs": [
                {
                    "output_type": "display_data",
                    "data": {
                        "text/html": "(1 row affected)"
                    },
                    "metadata": {}
                },
                {
                    "output_type": "display_data",
                    "data": {
                        "text/html": "Total execution time: 00:00:00.030"
                    },
                    "metadata": {}
                },
                {
                    "output_type": "execute_result",
                    "metadata": {},
                    "execution_count": 4,
                    "data": {
                        "application/vnd.dataresource+json": {
                            "schema": {
                                "fields": [
                                    {
                                        "name": "Total_Applications"
                                    }
                                ]
                            },
                            "data": [
                                {
                                    "Total_Applications": "38576"
                                }
                            ]
                        },
                        "text/html": [
                            "<table>",
                            "<tr><th>Total_Applications</th></tr>",
                            "<tr><td>38576</td></tr>",
                            "</table>"
                        ]
                    }
                }
            ],
            "execution_count": 4
        },
        {
            "cell_type": "markdown",
            "source": [
                ""
            ],
            "metadata": {
                "azdata_cell_guid": "af7ce4c3-9da0-49b2-94a6-fa80bd33bff2"
            }
        },
        {
            "cell_type": "code",
            "source": [
                ""
            ],
            "metadata": {
                "azdata_cell_guid": "75b1ce00-8ad5-4c0d-81a3-f9b7a1577b39",
                "language": "sql",
                "tags": [
                    "hide_input"
                ]
            },
            "outputs": [],
            "execution_count": null
        },
        {
            "cell_type": "code",
            "source": [
                ""
            ],
            "metadata": {
                "azdata_cell_guid": "cff87b82-17db-404e-894b-e6f4d80d0af1",
                "language": "sql",
                "tags": [
                    "hide_input"
                ]
            },
            "outputs": [],
            "execution_count": null
        },
        {
            "cell_type": "code",
            "source": [
                ""
            ],
            "metadata": {
                "azdata_cell_guid": "5674641a-f609-40f1-8265-f26da5736937",
                "language": "sql",
                "tags": [
                    "hide_input"
                ]
            },
            "outputs": [],
            "execution_count": null
        },
        {
            "cell_type": "code",
            "source": [
                ""
            ],
            "metadata": {
                "azdata_cell_guid": "35bafe2d-9509-4ba6-b835-dd49540013ea",
                "language": "sql",
                "tags": [
                    "hide_input"
                ]
            },
            "outputs": [],
            "execution_count": null
        },
        {
            "cell_type": "code",
            "source": [
                ""
            ],
            "metadata": {
                "azdata_cell_guid": "2c285c80-1155-4524-a388-42154e800f61",
                "language": "sql",
                "tags": [
                    "hide_input"
                ]
            },
            "outputs": [],
            "execution_count": null
        },
        {
            "cell_type": "code",
            "source": [
                ""
            ],
            "metadata": {
                "azdata_cell_guid": "38a4db3f-7bbd-42d8-9004-bbaedfcc56c5",
                "language": "sql",
                "tags": [
                    "hide_input"
                ]
            },
            "outputs": [],
            "execution_count": null
        }
    ]
}